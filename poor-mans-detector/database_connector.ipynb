{
 "cells": [
  {
   "cell_type": "code",
   "execution_count": 1,
   "id": "3e9309d8-f112-43b4-8a37-9b71b86cc4c6",
   "metadata": {},
   "outputs": [
    {
     "name": "stdout",
     "output_type": "stream",
     "text": [
      "Collecting psycopg2\n",
      "  Downloading psycopg2-2.9.3.tar.gz (380 kB)\n",
      "     |████████████████████████████████| 380 kB 27.0 MB/s            \n",
      "\u001b[?25h  Preparing metadata (setup.py) ... \u001b[?25ldone\n",
      "\u001b[?25hBuilding wheels for collected packages: psycopg2\n",
      "  Building wheel for psycopg2 (setup.py) ... \u001b[?25ldone\n",
      "\u001b[?25h  Created wheel for psycopg2: filename=psycopg2-2.9.3-cp38-cp38-linux_x86_64.whl size=564770 sha256=b243bda4e169cd3cdc9dc719328126b60b44ca4f6408659bad2eced7d7bfa744\n",
      "  Stored in directory: /tmp/pip-ephem-wheel-cache-cgxlbwbq/wheels/f3/dc/e2/b8e0e2142eff7fd680295ecd2d92e3bfbb90195523e43da161\n",
      "Successfully built psycopg2\n",
      "Installing collected packages: psycopg2\n",
      "Successfully installed psycopg2-2.9.3\n",
      "\u001b[33mWARNING: You are using pip version 21.3.1; however, version 22.1.2 is available.\n",
      "You should consider upgrading via the '/opt/app-root/bin/python3.8 -m pip install --upgrade pip' command.\u001b[0m\n"
     ]
    }
   ],
   "source": [
    "!pip install psycopg2"
   ]
  },
  {
   "cell_type": "code",
   "execution_count": 6,
   "id": "18c5ed93-35e7-4bd6-944b-910d8fa38cda",
   "metadata": {},
   "outputs": [],
   "source": [
    "import psycopg2"
   ]
  },
  {
   "cell_type": "code",
   "execution_count": 5,
   "id": "7a6cd1d2-9c0e-424a-bfaa-bd177939a8a5",
   "metadata": {},
   "outputs": [
    {
     "name": "stdout",
     "output_type": "stream",
     "text": [
      "Successfully connected to database\n"
     ]
    }
   ],
   "source": [
    "# Connect to PostgreSQL database\n",
    "# Parameters: host, database, user, password, port\n",
    "# Port defaults to 5432 if it is not provided\n",
    "\n",
    "conn = psycopg2.connect(host='postgresql.test-db01.svc.cluster.local',\n",
    "                        database='sampledb',\n",
    "                        user='user82M',\n",
    "                        password='q2s2gLeojWQFMkBa')\n",
    "\n",
    "print('Successfully connected to database')"
   ]
  }
 ],
 "metadata": {
  "kernelspec": {
   "display_name": "Python 3 (ipykernel)",
   "language": "python",
   "name": "python3"
  },
  "language_info": {
   "codemirror_mode": {
    "name": "ipython",
    "version": 3
   },
   "file_extension": ".py",
   "mimetype": "text/x-python",
   "name": "python",
   "nbconvert_exporter": "python",
   "pygments_lexer": "ipython3",
   "version": "3.8.8"
  }
 },
 "nbformat": 4,
 "nbformat_minor": 5
}
