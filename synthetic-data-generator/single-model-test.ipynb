{
 "cells": [
  {
   "cell_type": "code",
   "execution_count": 1,
   "id": "b755b599-2098-4075-8485-a994f1897a08",
   "metadata": {
    "collapsed": true,
    "jupyter": {
     "outputs_hidden": true
    },
    "tags": []
   },
   "outputs": [
    {
     "name": "stdout",
     "output_type": "stream",
     "text": [
      "Requirement already satisfied: sdv in /opt/app-root/lib/python3.8/site-packages (0.15.0)\n",
      "Requirement already satisfied: pandas<2,>=1.1.3 in /opt/app-root/lib/python3.8/site-packages (from sdv) (1.2.4)\n",
      "Requirement already satisfied: graphviz<1,>=0.13.2 in /opt/app-root/lib/python3.8/site-packages (from sdv) (0.20)\n",
      "Requirement already satisfied: ctgan<0.6,>=0.5.1 in /opt/app-root/lib/python3.8/site-packages (from sdv) (0.5.1)\n",
      "Requirement already satisfied: rdt<0.7,>=0.6.2 in /opt/app-root/lib/python3.8/site-packages (from sdv) (0.6.4)\n",
      "Requirement already satisfied: Faker<10,>=3.0.0 in /opt/app-root/lib/python3.8/site-packages (from sdv) (9.9.1)\n",
      "Requirement already satisfied: sdmetrics<0.6,>=0.5.0 in /opt/app-root/lib/python3.8/site-packages (from sdv) (0.5.0)\n",
      "Requirement already satisfied: numpy<2,>=1.20.0 in /opt/app-root/lib/python3.8/site-packages (from sdv) (1.22.4)\n",
      "Requirement already satisfied: copulas<0.8,>=0.7.0 in /opt/app-root/lib/python3.8/site-packages (from sdv) (0.7.0)\n",
      "Requirement already satisfied: deepecho<0.4,>=0.3.0.post1 in /opt/app-root/lib/python3.8/site-packages (from sdv) (0.3.0.post1)\n",
      "Requirement already satisfied: tqdm<5,>=4.15 in /opt/app-root/lib/python3.8/site-packages (from sdv) (4.62.3)\n",
      "Requirement already satisfied: scipy<2,>=1.5.4 in /opt/app-root/lib/python3.8/site-packages (from copulas<0.8,>=0.7.0->sdv) (1.6.2)\n",
      "Requirement already satisfied: matplotlib<4,>=3.4.0 in /opt/app-root/lib/python3.8/site-packages (from copulas<0.8,>=0.7.0->sdv) (3.4.1)\n",
      "Requirement already satisfied: torchvision<1,>=0.9.0 in /opt/app-root/lib/python3.8/site-packages (from ctgan<0.6,>=0.5.1->sdv) (0.13.0)\n",
      "Requirement already satisfied: packaging<22,>=20 in /opt/app-root/lib/python3.8/site-packages (from ctgan<0.6,>=0.5.1->sdv) (21.3)\n",
      "Requirement already satisfied: scikit-learn<2,>=0.24 in /opt/app-root/lib/python3.8/site-packages (from ctgan<0.6,>=0.5.1->sdv) (0.24.1)\n",
      "Requirement already satisfied: torch<2,>=1.8.0 in /opt/app-root/lib/python3.8/site-packages (from ctgan<0.6,>=0.5.1->sdv) (1.12.0)\n",
      "Requirement already satisfied: text-unidecode==1.3 in /opt/app-root/lib/python3.8/site-packages (from Faker<10,>=3.0.0->sdv) (1.3)\n",
      "Requirement already satisfied: python-dateutil>=2.4 in /opt/app-root/lib/python3.8/site-packages (from Faker<10,>=3.0.0->sdv) (2.8.2)\n",
      "Requirement already satisfied: pytz>=2017.3 in /opt/app-root/lib/python3.8/site-packages (from pandas<2,>=1.1.3->sdv) (2021.3)\n",
      "Requirement already satisfied: psutil<6,>=5.7 in /opt/app-root/lib/python3.8/site-packages (from rdt<0.7,>=0.6.2->sdv) (5.9.0)\n",
      "Requirement already satisfied: pyyaml<6,>=5.4.1 in /opt/app-root/lib/python3.8/site-packages (from rdt<0.7,>=0.6.2->sdv) (5.4.1)\n",
      "Requirement already satisfied: pyts<0.13.0,>=0.12.0 in /opt/app-root/lib/python3.8/site-packages (from sdmetrics<0.6,>=0.5.0->sdv) (0.12.0)\n",
      "Requirement already satisfied: cycler>=0.10 in /opt/app-root/lib/python3.8/site-packages (from matplotlib<4,>=3.4.0->copulas<0.8,>=0.7.0->sdv) (0.11.0)\n",
      "Requirement already satisfied: pyparsing>=2.2.1 in /opt/app-root/lib/python3.8/site-packages (from matplotlib<4,>=3.4.0->copulas<0.8,>=0.7.0->sdv) (3.0.6)\n",
      "Requirement already satisfied: kiwisolver>=1.0.1 in /opt/app-root/lib/python3.8/site-packages (from matplotlib<4,>=3.4.0->copulas<0.8,>=0.7.0->sdv) (1.3.2)\n",
      "Requirement already satisfied: pillow>=6.2.0 in /opt/app-root/lib/python3.8/site-packages (from matplotlib<4,>=3.4.0->copulas<0.8,>=0.7.0->sdv) (9.0.0)\n",
      "Requirement already satisfied: six>=1.5 in /opt/app-root/lib/python3.8/site-packages (from python-dateutil>=2.4->Faker<10,>=3.0.0->sdv) (1.16.0)\n",
      "Requirement already satisfied: numba>=0.48.0 in /opt/app-root/lib/python3.8/site-packages (from pyts<0.13.0,>=0.12.0->sdmetrics<0.6,>=0.5.0->sdv) (0.55.2)\n",
      "Requirement already satisfied: joblib>=0.12 in /opt/app-root/lib/python3.8/site-packages (from pyts<0.13.0,>=0.12.0->sdmetrics<0.6,>=0.5.0->sdv) (1.1.0)\n",
      "Requirement already satisfied: threadpoolctl>=2.0.0 in /opt/app-root/lib/python3.8/site-packages (from scikit-learn<2,>=0.24->ctgan<0.6,>=0.5.1->sdv) (3.0.0)\n",
      "Requirement already satisfied: typing-extensions in /opt/app-root/lib/python3.8/site-packages (from torch<2,>=1.8.0->ctgan<0.6,>=0.5.1->sdv) (4.0.1)\n",
      "Requirement already satisfied: requests in /opt/app-root/lib/python3.8/site-packages (from torchvision<1,>=0.9.0->ctgan<0.6,>=0.5.1->sdv) (2.27.1)\n",
      "Requirement already satisfied: setuptools in /opt/app-root/lib/python3.8/site-packages (from numba>=0.48.0->pyts<0.13.0,>=0.12.0->sdmetrics<0.6,>=0.5.0->sdv) (60.5.0)\n",
      "Requirement already satisfied: llvmlite<0.39,>=0.38.0rc1 in /opt/app-root/lib/python3.8/site-packages (from numba>=0.48.0->pyts<0.13.0,>=0.12.0->sdmetrics<0.6,>=0.5.0->sdv) (0.38.1)\n",
      "Requirement already satisfied: urllib3<1.27,>=1.21.1 in /opt/app-root/lib/python3.8/site-packages (from requests->torchvision<1,>=0.9.0->ctgan<0.6,>=0.5.1->sdv) (1.26.8)\n",
      "Requirement already satisfied: idna<4,>=2.5 in /opt/app-root/lib/python3.8/site-packages (from requests->torchvision<1,>=0.9.0->ctgan<0.6,>=0.5.1->sdv) (3.3)\n",
      "Requirement already satisfied: certifi>=2017.4.17 in /opt/app-root/lib/python3.8/site-packages (from requests->torchvision<1,>=0.9.0->ctgan<0.6,>=0.5.1->sdv) (2021.10.8)\n",
      "Requirement already satisfied: charset-normalizer~=2.0.0 in /opt/app-root/lib/python3.8/site-packages (from requests->torchvision<1,>=0.9.0->ctgan<0.6,>=0.5.1->sdv) (2.0.10)\n",
      "\u001b[33mWARNING: You are using pip version 21.3.1; however, version 22.1.2 is available.\n",
      "You should consider upgrading via the '/opt/app-root/bin/python3.8 -m pip install --upgrade pip' command.\u001b[0m\n"
     ]
    }
   ],
   "source": [
    "!pip install sdv"
   ]
  },
  {
   "cell_type": "code",
   "execution_count": 2,
   "id": "e2459d80-438e-41ed-9195-47e727e59a38",
   "metadata": {},
   "outputs": [],
   "source": [
    "from sdv.timeseries import PAR\n",
    "import pandas as pd\n",
    "from sklearn.preprocessing import MinMaxScaler\n",
    "from pickle import dump, load "
   ]
  },
  {
   "cell_type": "code",
   "execution_count": 3,
   "id": "e5f3d631-b7b5-4827-9153-a4e5c1a0d079",
   "metadata": {},
   "outputs": [],
   "source": [
    "loaded = PAR.load('25_model.pkl')"
   ]
  },
  {
   "cell_type": "code",
   "execution_count": null,
   "id": "85715930-7a42-49d7-aa1c-647b03e96a89",
   "metadata": {},
   "outputs": [
    {
     "name": "stderr",
     "output_type": "stream",
     "text": [
      "  0%|          | 0/1 [00:00<?, ?it/s]"
     ]
    }
   ],
   "source": [
    "sample = loaded.sample(num_sequences=1)"
   ]
  },
  {
   "cell_type": "code",
   "execution_count": null,
   "id": "bcbbfce9-b824-4476-9557-1cbadbcd1247",
   "metadata": {},
   "outputs": [],
   "source": []
  }
 ],
 "metadata": {
  "kernelspec": {
   "display_name": "Python 3 (ipykernel)",
   "language": "python",
   "name": "python3"
  },
  "language_info": {
   "codemirror_mode": {
    "name": "ipython",
    "version": 3
   },
   "file_extension": ".py",
   "mimetype": "text/x-python",
   "name": "python",
   "nbconvert_exporter": "python",
   "pygments_lexer": "ipython3",
   "version": "3.8.8"
  }
 },
 "nbformat": 4,
 "nbformat_minor": 5
}
